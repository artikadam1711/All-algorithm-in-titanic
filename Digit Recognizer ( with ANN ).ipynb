{
 "cells": [
  {
   "cell_type": "code",
   "execution_count": 1,
   "id": "c64cdf02",
   "metadata": {},
   "outputs": [],
   "source": [
    "import pandas as pd\n",
    "import matplotlib.pyplot as plt"
   ]
  },
  {
   "cell_type": "code",
   "execution_count": 2,
   "id": "df02d3db",
   "metadata": {},
   "outputs": [],
   "source": [
    "df_train = pd.read_csv('../../DL/Digit recognisation/train.csv')\n",
    "df_test = pd.read_csv('../../DL/Digit recognisation/test.csv')"
   ]
  },
  {
   "cell_type": "code",
   "execution_count": 3,
   "id": "2b5e3dfb",
   "metadata": {},
   "outputs": [
    {
     "data": {
      "text/plain": [
       "(42000, 785)"
      ]
     },
     "execution_count": 3,
     "metadata": {},
     "output_type": "execute_result"
    }
   ],
   "source": [
    "df_train.shape"
   ]
  },
  {
   "cell_type": "code",
   "execution_count": 4,
   "id": "049c3032",
   "metadata": {},
   "outputs": [
    {
     "data": {
      "text/plain": [
       "0    1\n",
       "1    0\n",
       "2    1\n",
       "3    4\n",
       "4    0\n",
       "Name: label, dtype: int64"
      ]
     },
     "execution_count": 4,
     "metadata": {},
     "output_type": "execute_result"
    }
   ],
   "source": [
    "df_train['label'].head()"
   ]
  },
  {
   "cell_type": "code",
   "execution_count": 5,
   "id": "cb88aff6",
   "metadata": {},
   "outputs": [],
   "source": [
    "x=df_train.drop('label',axis=1)"
   ]
  },
  {
   "cell_type": "code",
   "execution_count": 6,
   "id": "65c8bc3c",
   "metadata": {},
   "outputs": [
    {
     "data": {
      "text/plain": [
       "(42000, 784)"
      ]
     },
     "execution_count": 6,
     "metadata": {},
     "output_type": "execute_result"
    }
   ],
   "source": [
    "x.shape"
   ]
  },
  {
   "cell_type": "code",
   "execution_count": 7,
   "id": "9de5e045",
   "metadata": {},
   "outputs": [],
   "source": [
    "y=df_train['label']"
   ]
  },
  {
   "cell_type": "code",
   "execution_count": 8,
   "id": "fcb59b1e",
   "metadata": {},
   "outputs": [
    {
     "data": {
      "text/plain": [
       "<matplotlib.image.AxesImage at 0x2390ad3a850>"
      ]
     },
     "execution_count": 8,
     "metadata": {},
     "output_type": "execute_result"
    },
    {
     "data": {
      "image/png": "[encoded data removed]",
      "text/plain": [
       "<Figure size 640x480 with 1 Axes>"
      ]
     },
     "metadata": {},
     "output_type": "display_data"
    }
   ],
   "source": [
    "img = x.iloc[6].values.reshape(28,28)\n",
    "plt.imshow(img)"
   ]
  },
  {
   "cell_type": "code",
   "execution_count": 9,
   "id": "22050607",
   "metadata": {},
   "outputs": [],
   "source": [
    "from sklearn.model_selection import train_test_split\n",
    "x_train,x_test,y_train,y_test=train_test_split(x,y,test_size=0.2,random_state=19)"
   ]
  },
  {
   "cell_type": "code",
   "execution_count": 10,
   "id": "03696a1d",
   "metadata": {},
   "outputs": [
    {
     "data": {
      "text/plain": [
       "(33600, 784)"
      ]
     },
     "execution_count": 10,
     "metadata": {},
     "output_type": "execute_result"
    }
   ],
   "source": [
    "x_train.shape"
   ]
  },
  {
   "cell_type": "code",
   "execution_count": 11,
   "id": "d761b17f",
   "metadata": {},
   "outputs": [
    {
     "data": {
      "text/plain": [
       "array([  0,   0,   0,   0,   0,   0,   0,   0,   0,   0,   0,   0,   0,\n",
       "         0,   0,   0,   0,   0,   0,   0,   0,   0,   0,   0,   0,   0,\n",
       "         0,   0,   0,   0,   0,   0,   0,   0,   0,   0,   0,   0,   0,\n",
       "         0,   0,   0,   0,   0,   0,   0,   0,   0,   0,   0,   0,   0,\n",
       "         0,   0,   0,   0,   0,   0,   0,   0,   0,   0,   0,   0,   0,\n",
       "         0,   0,   0,   0,   0,   0,   0,   0,   0,   0,   0,   0,   0,\n",
       "         0,   0,   0,   0,   0,   0,   0,   0,   0,   0,   0,   0,   0,\n",
       "         0,   0,   0,   0,   0,   0,   0,   0,   0,   0,   0,   0,   0,\n",
       "         0,   0,   0,   0,   0,   0,   0,   0,   0,   0,   0,   0,   0,\n",
       "         0,   0,   0,   0,   0,   0,   0,   0,   0,   0,   0,   0,   0,\n",
       "         0,   0, 188, 255,  94,   0,   0,   0,   0,   0,   0,   0,   0,\n",
       "         0,   0,   0,   0,   0,   0,   0,   0,   0,   0,   0,   0,   0,\n",
       "         0,   0,   0, 191, 250, 253,  93,   0,   0,   0,   0,   0,   0,\n",
       "         0,   0,   0,   0,   0,   0,   0,   0,   0,   0,   0,   0,   0,\n",
       "         0,   0,   0,   0, 123, 248, 253, 167,  10,   0,   0,   0,   0,\n",
       "         0,   0,   0,   0,   0,   0,   0,   0,   0,   0,   0,   0,   0,\n",
       "         0,   0,   0,   0,   0,  80, 247, 253, 208,  13,   0,   0,   0,\n",
       "         0,   0,   0,   0,   0,   0,   0,   0,   0,   0,   0,   0,   0,\n",
       "         0,   0,   0,   0,   0,   0,  29, 207, 253, 235,  77,   0,   0,\n",
       "         0,   0,   0,   0,   0,   0,   0,   0,   0,   0,   0,   0,   0,\n",
       "         0,   0,   0,   0,   0,   0,   0,  54, 209, 253, 253,  88,   0,\n",
       "         0,   0,   0,   0,   0,   0,   0,   0,   0,   0,   0,   0,   0,\n",
       "         0,   0,   0,   0,   0,   0,   0,   0,  93, 254, 253, 238, 170,\n",
       "        17,   0,   0,   0,   0,   0,   0,   0,   0,   0,   0,   0,   0,\n",
       "         0,   0,   0,   0,   0,   0,   0,   0,   0,  23, 210, 254, 253,\n",
       "       159,   0,   0,   0,   0,   0,   0,   0,   0,   0,   0,   0,   0,\n",
       "         0,   0,   0,   0,   0,   0,   0,   0,   0,   0,  16, 209, 253,\n",
       "       254, 240,  81,   0,   0,   0,   0,   0,   0,   0,   0,   0,   0,\n",
       "         0,   0,   0,   0,   0,   0,   0,   0,   0,   0,   0,   0,  27,\n",
       "       253, 253, 254,  13,   0,   0,   0,   0,   0,   0,   0,   0,   0,\n",
       "         0,   0,   0,   0,   0,   0,   0,   0,   0,   0,   0,   0,   0,\n",
       "        20, 206, 254, 254, 198,   7,   0,   0,   0,   0,   0,   0,   0,\n",
       "         0,   0,   0,   0,   0,   0,   0,   0,   0,   0,   0,   0,   0,\n",
       "         0,   0, 168, 253, 253, 196,   7,   0,   0,   0,   0,   0,   0,\n",
       "         0,   0,   0,   0,   0,   0,   0,   0,   0,   0,   0,   0,   0,\n",
       "         0,   0,   0,  20, 203, 253, 248,  76,   0,   0,   0,   0,   0,\n",
       "         0,   0,   0,   0,   0,   0,   0,   0,   0,   0,   0,   0,   0,\n",
       "         0,   0,   0,   0,  22, 188, 253, 245,  93,   0,   0,   0,   0,\n",
       "         0,   0,   0,   0,   0,   0,   0,   0,   0,   0,   0,   0,   0,\n",
       "         0,   0,   0,   0,   0,   0, 103, 253, 253, 191,   0,   0,   0,\n",
       "         0,   0,   0,   0,   0,   0,   0,   0,   0,   0,   0,   0,   0,\n",
       "         0,   0,   0,   0,   0,   0,   0,  89, 240, 253, 195,  25,   0,\n",
       "         0,   0,   0,   0,   0,   0,   0,   0,   0,   0,   0,   0,   0,\n",
       "         0,   0,   0,   0,   0,   0,   0,   0,  15, 220, 253, 253,  80,\n",
       "         0,   0,   0,   0,   0,   0,   0,   0,   0,   0,   0,   0,   0,\n",
       "         0,   0,   0,   0,   0,   0,   0,   0,   0,   0,  94, 253, 253,\n",
       "       253,  94,   0,   0,   0,   0,   0,   0,   0,   0,   0,   0,   0,\n",
       "         0,   0,   0,   0,   0,   0,   0,   0,   0,   0,   0,   0,  89,\n",
       "       251, 253, 250, 131,   0,   0,   0,   0,   0,   0,   0,   0,   0,\n",
       "         0,   0,   0,   0,   0,   0,   0,   0,   0,   0,   0,   0,   0,\n",
       "         0,   0, 214, 218,  95,   0,   0,   0,   0,   0,   0,   0,   0,\n",
       "         0,   0,   0,   0,   0,   0,   0,   0,   0,   0,   0,   0,   0,\n",
       "         0,   0,   0,   0,   0,   0,   0,   0,   0,   0,   0,   0,   0,\n",
       "         0,   0,   0,   0,   0,   0,   0,   0,   0,   0,   0,   0,   0,\n",
       "         0,   0,   0,   0,   0,   0,   0,   0,   0,   0,   0,   0,   0,\n",
       "         0,   0,   0,   0,   0,   0,   0,   0,   0,   0,   0,   0,   0,\n",
       "         0,   0,   0,   0,   0,   0,   0,   0,   0,   0,   0,   0,   0,\n",
       "         0,   0,   0,   0,   0,   0,   0,   0,   0,   0,   0,   0,   0,\n",
       "         0,   0,   0,   0,   0,   0,   0,   0,   0,   0,   0,   0,   0,\n",
       "         0,   0,   0,   0,   0,   0,   0,   0,   0,   0,   0,   0,   0,\n",
       "         0,   0,   0,   0], dtype=int64)"
      ]
     },
     "execution_count": 11,
     "metadata": {},
     "output_type": "execute_result"
    }
   ],
   "source": [
    "x.iloc[0].values"
   ]
  },
  {
   "cell_type": "code",
   "execution_count": 12,
   "id": "859b5ea0",
   "metadata": {},
   "outputs": [],
   "source": [
    "x_train_scaled = x_train/255\n",
    "x_test_scaled = x_test/255"
   ]
  },
  {
   "cell_type": "code",
   "execution_count": 13,
   "id": "aa18a6c9",
   "metadata": {},
   "outputs": [
    {
     "data": {
      "text/plain": [
       "(33600, 784)"
      ]
     },
     "execution_count": 13,
     "metadata": {},
     "output_type": "execute_result"
    }
   ],
   "source": [
    "x_train_scaled.shape"
   ]
  },
  {
   "cell_type": "code",
   "execution_count": 14,
   "id": "38e58183",
   "metadata": {},
   "outputs": [],
   "source": [
    "from tensorflow.keras.utils import to_categorical"
   ]
  },
  {
   "cell_type": "code",
   "execution_count": 15,
   "id": "81d8a1fd",
   "metadata": {},
   "outputs": [],
   "source": [
    "y_train_cat = to_categorical(y_train,num_classes=10)\n",
    "y_test_cat = to_categorical(y_test,num_classes=10)"
   ]
  },
  {
   "cell_type": "code",
   "execution_count": 16,
   "id": "8893b58d",
   "metadata": {},
   "outputs": [
    {
     "data": {
      "text/plain": [
       "(33600, 10)"
      ]
     },
     "execution_count": 16,
     "metadata": {},
     "output_type": "execute_result"
    }
   ],
   "source": [
    "y_train_cat.shape"
   ]
  },
  {
   "cell_type": "code",
   "execution_count": 17,
   "id": "2aa8beeb",
   "metadata": {},
   "outputs": [],
   "source": [
    "from tensorflow.keras.models import Sequential\n",
    "from tensorflow.keras.layers import Dense"
   ]
  },
  {
   "cell_type": "code",
   "execution_count": 18,
   "id": "972a4961",
   "metadata": {},
   "outputs": [],
   "source": [
    "model = Sequential()\n",
    "model.add(Dense(30, activation='relu', input_shape=(784,)))\n",
    "model.add(Dense(20, activation='relu'))\n",
    "model.add(Dense(10, activation='softmax'))\n",
    "\n",
    "model.compile(loss='categorical_crossentropy', metrics=['accuracy'])"
   ]
  },
  {
   "cell_type": "code",
   "execution_count": 19,
   "id": "0ba005fe",
   "metadata": {},
   "outputs": [
    {
     "name": "stdout",
     "output_type": "stream",
     "text": [
      "Epoch 1/20\n",
      "525/525 [==============================] - 14s 7ms/step - loss: 0.5368 - accuracy: 0.8485\n",
      "Epoch 2/20\n",
      "525/525 [==============================] - 3s 5ms/step - loss: 0.2457 - accuracy: 0.9279\n",
      "Epoch 3/20\n",
      "525/525 [==============================] - 2s 4ms/step - loss: 0.1978 - accuracy: 0.9418\n",
      "Epoch 4/20\n",
      "525/525 [==============================] - 2s 4ms/step - loss: 0.1699 - accuracy: 0.9489\n",
      "Epoch 5/20\n",
      "525/525 [==============================] - 2s 3ms/step - loss: 0.1492 - accuracy: 0.9547\n",
      "Epoch 6/20\n",
      "525/525 [==============================] - 2s 4ms/step - loss: 0.1344 - accuracy: 0.9594\n",
      "Epoch 7/20\n",
      "525/525 [==============================] - 2s 3ms/step - loss: 0.1222 - accuracy: 0.9627\n",
      "Epoch 8/20\n",
      "525/525 [==============================] - 2s 4ms/step - loss: 0.1114 - accuracy: 0.9666\n",
      "Epoch 9/20\n",
      "525/525 [==============================] - 3s 5ms/step - loss: 0.1025 - accuracy: 0.9698\n",
      "Epoch 10/20\n",
      "525/525 [==============================] - 4s 7ms/step - loss: 0.0945 - accuracy: 0.9715\n",
      "Epoch 11/20\n",
      "525/525 [==============================] - 4s 7ms/step - loss: 0.0889 - accuracy: 0.9729\n",
      "Epoch 12/20\n",
      "525/525 [==============================] - 4s 7ms/step - loss: 0.0819 - accuracy: 0.9754\n",
      "Epoch 13/20\n",
      "525/525 [==============================] - 3s 6ms/step - loss: 0.0773 - accuracy: 0.9766\n",
      "Epoch 14/20\n",
      "525/525 [==============================] - 2s 4ms/step - loss: 0.0723 - accuracy: 0.9787\n",
      "Epoch 15/20\n",
      "525/525 [==============================] - 2s 4ms/step - loss: 0.0666 - accuracy: 0.9799\n",
      "Epoch 16/20\n",
      "525/525 [==============================] - 2s 3ms/step - loss: 0.0641 - accuracy: 0.9814\n",
      "Epoch 17/20\n",
      "525/525 [==============================] - 2s 4ms/step - loss: 0.0591 - accuracy: 0.9825\n",
      "Epoch 18/20\n",
      "525/525 [==============================] - 2s 4ms/step - loss: 0.0579 - accuracy: 0.9827\n",
      "Epoch 19/20\n",
      "525/525 [==============================] - 2s 5ms/step - loss: 0.0540 - accuracy: 0.9840\n",
      "Epoch 20/20\n",
      "525/525 [==============================] - 2s 4ms/step - loss: 0.0509 - accuracy: 0.9853\n"
     ]
    }
   ],
   "source": [
    "hist = model.fit(x_train_scaled, y_train_cat, epochs=20, batch_size=64)"
   ]
  },
  {
   "cell_type": "code",
   "execution_count": null,
   "id": "d232a564",
   "metadata": {},
   "outputs": [],
   "source": []
  },
  {
   "cell_type": "code",
   "execution_count": null,
   "id": "65a43b0f",
   "metadata": {},
   "outputs": [],
   "source": []
  },
  {
   "cell_type": "code",
   "execution_count": null,
   "id": "65bf04a8",
   "metadata": {},
   "outputs": [],
   "source": []
  },
  {
   "cell_type": "markdown",
   "id": "d97dc249",
   "metadata": {},
   "source": [
    "# digit recognisation on own handwriting"
   ]
  },
  {
   "cell_type": "code",
   "execution_count": 28,
   "id": "cca49491",
   "metadata": {},
   "outputs": [],
   "source": [
    "import os ,cv2"
   ]
  },
  {
   "cell_type": "code",
   "execution_count": 29,
   "id": "61fc8626",
   "metadata": {},
   "outputs": [],
   "source": [
    "A = cv2.imread('../../DL/Digit recognisation/images/image 0.jpg',0)"
   ]
  },
  {
   "cell_type": "code",
   "execution_count": 30,
   "id": "aec42e0f",
   "metadata": {},
   "outputs": [
    {
     "data": {
      "text/plain": [
       "['image 0.jpg',\n",
       " 'image 00.jpg',\n",
       " 'image 1.jpg',\n",
       " 'image 11.jpg',\n",
       " 'image 2.jpg',\n",
       " 'image 3.jpg',\n",
       " 'image 33.jpg',\n",
       " 'image 4.jpg',\n",
       " 'image 5.jpg',\n",
       " 'image 55.jpg',\n",
       " 'image 6.jpg',\n",
       " 'image 7.jpg',\n",
       " 'image 77.jpg',\n",
       " 'image 8.jpg',\n",
       " 'image 88.jpg',\n",
       " 'image 9.jpg',\n",
       " 'image 99.jpg']"
      ]
     },
     "execution_count": 30,
     "metadata": {},
     "output_type": "execute_result"
    }
   ],
   "source": [
    "os.listdir('../../DL/Digit recognisation/images/')"
   ]
  },
  {
   "cell_type": "code",
   "execution_count": 31,
   "id": "594612c4",
   "metadata": {},
   "outputs": [
    {
     "data": {
      "text/plain": [
       "<matplotlib.image.AxesImage at 0x239707f7fd0>"
      ]
     },
     "execution_count": 31,
     "metadata": {},
     "output_type": "execute_result"
    },
    {
     "data": {
      "image/png": "[encoded data removed]",
      "text/plain": [
       "<Figure size 640x480 with 1 Axes>"
      ]
     },
     "metadata": {},
     "output_type": "display_data"
    }
   ],
   "source": [
    "plt.imshow(img)"
   ]
  },
  {
   "cell_type": "code",
   "execution_count": 32,
   "id": "5a84ce51",
   "metadata": {},
   "outputs": [
    {
     "data": {
      "text/plain": [
       "(28, 28)"
      ]
     },
     "execution_count": 32,
     "metadata": {},
     "output_type": "execute_result"
    }
   ],
   "source": [
    "A = cv2.resize(A,(28,28))\n",
    "A.shape"
   ]
  },
  {
   "cell_type": "code",
   "execution_count": 33,
   "id": "3e2f5b01",
   "metadata": {},
   "outputs": [],
   "source": [
    "A = A.reshape(1,784)/255"
   ]
  },
  {
   "cell_type": "code",
   "execution_count": 34,
   "id": "c782f87d",
   "metadata": {},
   "outputs": [
    {
     "data": {
      "text/plain": [
       "(1, 784)"
      ]
     },
     "execution_count": 34,
     "metadata": {},
     "output_type": "execute_result"
    }
   ],
   "source": [
    "A.shape"
   ]
  },
  {
   "cell_type": "code",
   "execution_count": 35,
   "id": "f0d0a841",
   "metadata": {},
   "outputs": [
    {
     "data": {
      "text/plain": [
       "6"
      ]
     },
     "execution_count": 35,
     "metadata": {},
     "output_type": "execute_result"
    }
   ],
   "source": [
    "model.predict_on_batch(A).argmax()"
   ]
  },
  {
   "cell_type": "code",
   "execution_count": 36,
   "id": "d10ab1c6",
   "metadata": {},
   "outputs": [],
   "source": [
    "def predict(path):\n",
    "    A = cv2.imread(path, 0)\n",
    "    A = cv2.resize(A,(28,28))\n",
    "    A = A.reshape(1,784)/255\n",
    "    return model.predict_on_batch(A).argmax()"
   ]
  },
  {
   "cell_type": "code",
   "execution_count": 41,
   "id": "dd6cdf0e",
   "metadata": {},
   "outputs": [
    {
     "data": {
      "text/plain": [
       "6"
      ]
     },
     "execution_count": 41,
     "metadata": {},
     "output_type": "execute_result"
    }
   ],
   "source": [
    "predict('../../DL/Digit recognisation/images/'+'image 0.jpg')"
   ]
  },
  {
   "cell_type": "code",
   "execution_count": 42,
   "id": "62546c88",
   "metadata": {},
   "outputs": [
    {
     "name": "stdout",
     "output_type": "stream",
     "text": [
      "../../DL/Digit recognisation/images/image 0.jpg\n",
      "../../DL/Digit recognisation/images/image 00.jpg\n",
      "../../DL/Digit recognisation/images/image 1.jpg\n",
      "../../DL/Digit recognisation/images/image 11.jpg\n",
      "../../DL/Digit recognisation/images/image 2.jpg\n",
      "../../DL/Digit recognisation/images/image 3.jpg\n",
      "../../DL/Digit recognisation/images/image 33.jpg\n",
      "../../DL/Digit recognisation/images/image 4.jpg\n",
      "../../DL/Digit recognisation/images/image 5.jpg\n",
      "../../DL/Digit recognisation/images/image 55.jpg\n",
      "../../DL/Digit recognisation/images/image 6.jpg\n",
      "../../DL/Digit recognisation/images/image 7.jpg\n",
      "../../DL/Digit recognisation/images/image 77.jpg\n",
      "../../DL/Digit recognisation/images/image 8.jpg\n",
      "../../DL/Digit recognisation/images/image 88.jpg\n",
      "../../DL/Digit recognisation/images/image 9.jpg\n",
      "../../DL/Digit recognisation/images/image 99.jpg\n"
     ]
    }
   ],
   "source": [
    "filenames = os.listdir('../../DL/Digit recognisation/images/')\n",
    "for filename in filenames:\n",
    "    print('../../DL/Digit recognisation/images/'+filename)"
   ]
  },
  {
   "cell_type": "code",
   "execution_count": 44,
   "id": "6ba78610",
   "metadata": {},
   "outputs": [
    {
     "name": "stdout",
     "output_type": "stream",
     "text": [
      "image 0.jpg \t 6\n",
      "image 00.jpg \t 0\n",
      "image 1.jpg \t 3\n",
      "image 11.jpg \t 3\n",
      "image 2.jpg \t 2\n",
      "image 3.jpg \t 3\n",
      "image 33.jpg \t 6\n",
      "image 4.jpg \t 8\n",
      "image 5.jpg \t 3\n",
      "image 55.jpg \t 5\n",
      "image 6.jpg \t 6\n",
      "image 7.jpg \t 8\n",
      "image 77.jpg \t 3\n",
      "image 8.jpg \t 3\n",
      "image 88.jpg \t 6\n",
      "image 9.jpg \t 3\n",
      "image 99.jpg \t 3\n"
     ]
    }
   ],
   "source": [
    "for filename in filenames:\n",
    "    digit = predict('../../DL/Digit recognisation/images/'+filename)\n",
    "    print(filename,'\\t',digit)"
   ]
  },
  {
   "cell_type": "code",
   "execution_count": 45,
   "id": "d6a730ae",
   "metadata": {},
   "outputs": [
    {
     "data": {
      "text/plain": [
       "<matplotlib.image.AxesImage at 0x23970a2c4f0>"
      ]
     },
     "execution_count": 45,
     "metadata": {},
     "output_type": "execute_result"
    },
    {
     "data": {
      "image/png": "[encoded data removed]",
      "text/plain": [
       "<Figure size 640x480 with 1 Axes>"
      ]
     },
     "metadata": {},
     "output_type": "display_data"
    }
   ],
   "source": [
    "plt.imshow(A.reshape(28,28))"
   ]
  }
 ],
 "metadata": {
  "kernelspec": {
   "display_name": "Python [conda env:dsml19_env_2]",
   "language": "python",
   "name": "conda-env-dsml19_env_2-py"
  },
  "language_info": {
   "codemirror_mode": {
    "name": "ipython",
    "version": 3
   },
   "file_extension": ".py",
   "mimetype": "text/x-python",
   "name": "python",
   "nbconvert_exporter": "python",
   "pygments_lexer": "ipython3",
   "version": "3.8.0"
  }
 },
 "nbformat": 4,
 "nbformat_minor": 5
}
