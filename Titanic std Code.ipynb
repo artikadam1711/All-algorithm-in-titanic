{
 "cells": [
  {
   "cell_type": "code",
   "execution_count": 1,
   "id": "05e1d106",
   "metadata": {},
   "outputs": [],
   "source": [
    "import pandas as pd"
   ]
  },
  {
   "cell_type": "code",
   "execution_count": 2,
   "id": "ba511b06",
   "metadata": {},
   "outputs": [],
   "source": [
    "df_train = pd.read_csv('../../DSML19/Dataset/titanic/train.csv')\n",
    "df_test = pd.read_csv('../../DSML19/Dataset/titanic/test.csv')"
   ]
  },
  {
   "cell_type": "code",
   "execution_count": 3,
   "id": "f2a5b0a5",
   "metadata": {},
   "outputs": [
    {
     "data": {
      "text/plain": [
       "(891, 12)"
      ]
     },
     "execution_count": 3,
     "metadata": {},
     "output_type": "execute_result"
    }
   ],
   "source": [
    "df_train.shape"
   ]
  },
  {
   "cell_type": "code",
   "execution_count": 4,
   "id": "df9922bc",
   "metadata": {},
   "outputs": [
    {
     "data": {
      "text/plain": [
       "<bound method DataFrame.info of      PassengerId  Survived  Pclass  \\\n",
       "0              1         0       3   \n",
       "1              2         1       1   \n",
       "2              3         1       3   \n",
       "3              4         1       1   \n",
       "4              5         0       3   \n",
       "..           ...       ...     ...   \n",
       "886          887         0       2   \n",
       "887          888         1       1   \n",
       "888          889         0       3   \n",
       "889          890         1       1   \n",
       "890          891         0       3   \n",
       "\n",
       "                                                  Name     Sex   Age  SibSp  \\\n",
       "0                              Braund, Mr. Owen Harris    male  22.0      1   \n",
       "1    Cumings, Mrs. John Bradley (Florence Briggs Th...  female  38.0      1   \n",
       "2                               Heikkinen, Miss. Laina  female  26.0      0   \n",
       "3         Futrelle, Mrs. Jacques Heath (Lily May Peel)  female  35.0      1   \n",
       "4                             Allen, Mr. William Henry    male  35.0      0   \n",
       "..                                                 ...     ...   ...    ...   \n",
       "886                              Montvila, Rev. Juozas    male  27.0      0   \n",
       "887                       Graham, Miss. Margaret Edith  female  19.0      0   \n",
       "888           Johnston, Miss. Catherine Helen \"Carrie\"  female   NaN      1   \n",
       "889                              Behr, Mr. Karl Howell    male  26.0      0   \n",
       "890                                Dooley, Mr. Patrick    male  32.0      0   \n",
       "\n",
       "     Parch            Ticket     Fare Cabin Embarked  \n",
       "0        0         A/5 21171   7.2500   NaN        S  \n",
       "1        0          PC 17599  71.2833   C85        C  \n",
       "2        0  STON/O2. 3101282   7.9250   NaN        S  \n",
       "3        0            113803  53.1000  C123        S  \n",
       "4        0            373450   8.0500   NaN        S  \n",
       "..     ...               ...      ...   ...      ...  \n",
       "886      0            211536  13.0000   NaN        S  \n",
       "887      0            112053  30.0000   B42        S  \n",
       "888      2        W./C. 6607  23.4500   NaN        S  \n",
       "889      0            111369  30.0000  C148        C  \n",
       "890      0            370376   7.7500   NaN        Q  \n",
       "\n",
       "[891 rows x 12 columns]>"
      ]
     },
     "execution_count": 4,
     "metadata": {},
     "output_type": "execute_result"
    }
   ],
   "source": [
    "df_train.info"
   ]
  },
  {
   "cell_type": "code",
   "execution_count": 5,
   "id": "2afca78e",
   "metadata": {},
   "outputs": [],
   "source": [
    "import matplotlib.pyplot as plt"
   ]
  },
  {
   "cell_type": "code",
   "execution_count": 6,
   "id": "3d48d4ca",
   "metadata": {},
   "outputs": [
    {
     "data": {
      "text/plain": [
       "{'whiskers': [<matplotlib.lines.Line2D at 0x16b93d4a190>,\n",
       "  <matplotlib.lines.Line2D at 0x16b93d4a460>],\n",
       " 'caps': [<matplotlib.lines.Line2D at 0x16b93d4a7f0>,\n",
       "  <matplotlib.lines.Line2D at 0x16b93d4aa00>],\n",
       " 'boxes': [<matplotlib.lines.Line2D at 0x16b93d2be80>],\n",
       " 'medians': [<matplotlib.lines.Line2D at 0x16b93d4acd0>],\n",
       " 'fliers': [<matplotlib.lines.Line2D at 0x16b93d4afa0>],\n",
       " 'means': []}"
      ]
     },
     "execution_count": 6,
     "metadata": {},
     "output_type": "execute_result"
    },
    {
     "data": {
      "image/png": "[encoded data removed]",
      "text/plain": [
       "<Figure size 432x288 with 1 Axes>"
      ]
     },
     "metadata": {
      "needs_background": "light"
     },
     "output_type": "display_data"
    }
   ],
   "source": [
    "plt.boxplot(df_train['Survived']) # check outlier"
   ]
  },
  {
   "cell_type": "code",
   "execution_count": 7,
   "id": "fb5f93a6",
   "metadata": {},
   "outputs": [
    {
     "data": {
      "text/plain": [
       "Index(['PassengerId', 'Survived', 'Pclass', 'Name', 'Sex', 'Age', 'SibSp',\n",
       "       'Parch', 'Ticket', 'Fare', 'Cabin', 'Embarked'],\n",
       "      dtype='object')"
      ]
     },
     "execution_count": 7,
     "metadata": {},
     "output_type": "execute_result"
    }
   ],
   "source": [
    "df_train.columns"
   ]
  },
  {
   "cell_type": "code",
   "execution_count": null,
   "id": "7144724d",
   "metadata": {},
   "outputs": [],
   "source": [
    "# select numeric columns"
   ]
  },
  {
   "cell_type": "code",
   "execution_count": 8,
   "id": "13d477d0",
   "metadata": {},
   "outputs": [],
   "source": [
    "num_cl=list(df_train.select_dtypes(exclude='object').columns)"
   ]
  },
  {
   "cell_type": "code",
   "execution_count": 9,
   "id": "5d95156c",
   "metadata": {},
   "outputs": [],
   "source": [
    "num_cl.remove('Survived')\n"
   ]
  },
  {
   "cell_type": "code",
   "execution_count": 10,
   "id": "0242885c",
   "metadata": {},
   "outputs": [],
   "source": [
    "num_cl.remove('PassengerId')"
   ]
  },
  {
   "cell_type": "code",
   "execution_count": 11,
   "id": "21dbc581",
   "metadata": {},
   "outputs": [
    {
     "data": {
      "text/plain": [
       "['Pclass', 'Age', 'SibSp', 'Parch', 'Fare']"
      ]
     },
     "execution_count": 11,
     "metadata": {},
     "output_type": "execute_result"
    }
   ],
   "source": [
    "num_cl"
   ]
  },
  {
   "cell_type": "code",
   "execution_count": 12,
   "id": "24890a65",
   "metadata": {},
   "outputs": [],
   "source": [
    "# select categorical columns\n",
    "cat_cl=list(df_train.select_dtypes(include='object').columns)"
   ]
  },
  {
   "cell_type": "code",
   "execution_count": 13,
   "id": "856791c0",
   "metadata": {},
   "outputs": [
    {
     "name": "stdout",
     "output_type": "stream",
     "text": [
      "['Name', 'Sex', 'Ticket', 'Cabin', 'Embarked']\n"
     ]
    }
   ],
   "source": [
    "print(cat_cl)"
   ]
  },
  {
   "cell_type": "code",
   "execution_count": 14,
   "id": "5b7a7129",
   "metadata": {},
   "outputs": [],
   "source": [
    "cat_cl.remove('Name')\n",
    "cat_cl.remove('Ticket')\n",
    "cat_cl.remove('Sex')"
   ]
  },
  {
   "cell_type": "code",
   "execution_count": null,
   "id": "92e78ab1",
   "metadata": {},
   "outputs": [],
   "source": []
  },
  {
   "cell_type": "code",
   "execution_count": 15,
   "id": "1e162640",
   "metadata": {},
   "outputs": [],
   "source": [
    "from sklearn.preprocessing import MinMaxScaler\n",
    "from sklearn.preprocessing import OneHotEncoder"
   ]
  },
  {
   "cell_type": "code",
   "execution_count": 16,
   "id": "349dadd6",
   "metadata": {},
   "outputs": [],
   "source": [
    "from sklearn.impute import SimpleImputer"
   ]
  },
  {
   "cell_type": "markdown",
   "id": "943d012c",
   "metadata": {},
   "source": [
    "# imputation"
   ]
  },
  {
   "cell_type": "code",
   "execution_count": 17,
   "id": "ed0af56f",
   "metadata": {},
   "outputs": [],
   "source": [
    "# NUMERIC DATA\n",
    "# fill missing values\n",
    "imputer_num = SimpleImputer(strategy='median')\n",
    "imputer_num.fit(df_train[num_cl])\n",
    "df_train[num_cl] = imputer_num.transform(df_train[num_cl])\n",
    "\n",
    "df_test[num_cl] = imputer_num.transform(df_test[num_cl])\n",
    "\n",
    "# CATEGORICAL DATA\n",
    "imputer_cat = SimpleImputer(strategy='most_frequent')\n",
    "imputer_cat.fit(df_train[cat_cl])\n",
    "df_train[cat_cl] = imputer_cat.transform(df_train[cat_cl])\n",
    "\n",
    "df_test[cat_cl] = imputer_cat.transform(df_test[cat_cl])\n"
   ]
  },
  {
   "cell_type": "code",
   "execution_count": 18,
   "id": "3379eda7",
   "metadata": {},
   "outputs": [
    {
     "data": {
      "text/plain": [
       "PassengerId    0\n",
       "Survived       0\n",
       "Pclass         0\n",
       "Name           0\n",
       "Sex            0\n",
       "Age            0\n",
       "SibSp          0\n",
       "Parch          0\n",
       "Ticket         0\n",
       "Fare           0\n",
       "Cabin          0\n",
       "Embarked       0\n",
       "dtype: int64"
      ]
     },
     "execution_count": 18,
     "metadata": {},
     "output_type": "execute_result"
    }
   ],
   "source": [
    "df_train.isna().sum()"
   ]
  },
  {
   "cell_type": "markdown",
   "id": "e94a5279",
   "metadata": {},
   "source": [
    "# encoding"
   ]
  },
  {
   "cell_type": "code",
   "execution_count": 19,
   "id": "6fe90627",
   "metadata": {},
   "outputs": [
    {
     "name": "stderr",
     "output_type": "stream",
     "text": [
      "C:\\Users\\HP\\anaconda3\\lib\\site-packages\\sklearn\\utils\\deprecation.py:87: FutureWarning: Function get_feature_names is deprecated; get_feature_names is deprecated in 1.0 and will be removed in 1.2. Please use get_feature_names_out instead.\n",
      "  warnings.warn(msg, category=FutureWarning)\n",
      "C:\\Users\\HP\\anaconda3\\lib\\site-packages\\sklearn\\utils\\deprecation.py:87: FutureWarning: Function get_feature_names is deprecated; get_feature_names is deprecated in 1.0 and will be removed in 1.2. Please use get_feature_names_out instead.\n",
      "  warnings.warn(msg, category=FutureWarning)\n"
     ]
    }
   ],
   "source": [
    "ohe=OneHotEncoder(handle_unknown='ignore') # convert categorical data to numeric formate\n",
    "ohe.fit(df_train[cat_cl])\n",
    "temp = pd.DataFrame(data=ohe.transform(df_train[cat_cl]).toarray(), columns=ohe.get_feature_names())\n",
    "\n",
    "temp1 = pd.DataFrame(data=ohe.transform(df_test[cat_cl]).toarray(), columns=ohe.get_feature_names())\n",
    "\n"
   ]
  },
  {
   "cell_type": "code",
   "execution_count": 20,
   "id": "40f3715e",
   "metadata": {},
   "outputs": [
    {
     "name": "stderr",
     "output_type": "stream",
     "text": [
      "C:\\Users\\HP\\anaconda3\\lib\\site-packages\\sklearn\\utils\\deprecation.py:87: FutureWarning: Function get_feature_names is deprecated; get_feature_names is deprecated in 1.0 and will be removed in 1.2. Please use get_feature_names_out instead.\n",
      "  warnings.warn(msg, category=FutureWarning)\n"
     ]
    }
   ],
   "source": [
    "cl_final=num_cl+list(ohe.get_feature_names())"
   ]
  },
  {
   "cell_type": "code",
   "execution_count": 21,
   "id": "223d799a",
   "metadata": {},
   "outputs": [],
   "source": [
    "df_train = pd.concat([df_train, temp], axis=1)\n",
    "df_test = pd.concat([df_test, temp1], axis=1)"
   ]
  },
  {
   "cell_type": "code",
   "execution_count": 22,
   "id": "f925d45b",
   "metadata": {},
   "outputs": [
    {
     "data": {
      "text/plain": [
       "['Pclass',\n",
       " 'Age',\n",
       " 'SibSp',\n",
       " 'Parch',\n",
       " 'Fare',\n",
       " 'x0_A10',\n",
       " 'x0_A14',\n",
       " 'x0_A16',\n",
       " 'x0_A19',\n",
       " 'x0_A20',\n",
       " 'x0_A23',\n",
       " 'x0_A24',\n",
       " 'x0_A26',\n",
       " 'x0_A31',\n",
       " 'x0_A32',\n",
       " 'x0_A34',\n",
       " 'x0_A36',\n",
       " 'x0_A5',\n",
       " 'x0_A6',\n",
       " 'x0_A7',\n",
       " 'x0_B101',\n",
       " 'x0_B102',\n",
       " 'x0_B18',\n",
       " 'x0_B19',\n",
       " 'x0_B20',\n",
       " 'x0_B22',\n",
       " 'x0_B28',\n",
       " 'x0_B3',\n",
       " 'x0_B30',\n",
       " 'x0_B35',\n",
       " 'x0_B37',\n",
       " 'x0_B38',\n",
       " 'x0_B39',\n",
       " 'x0_B4',\n",
       " 'x0_B41',\n",
       " 'x0_B42',\n",
       " 'x0_B49',\n",
       " 'x0_B5',\n",
       " 'x0_B50',\n",
       " 'x0_B51 B53 B55',\n",
       " 'x0_B57 B59 B63 B66',\n",
       " 'x0_B58 B60',\n",
       " 'x0_B69',\n",
       " 'x0_B71',\n",
       " 'x0_B73',\n",
       " 'x0_B77',\n",
       " 'x0_B78',\n",
       " 'x0_B79',\n",
       " 'x0_B80',\n",
       " 'x0_B82 B84',\n",
       " 'x0_B86',\n",
       " 'x0_B94',\n",
       " 'x0_B96 B98',\n",
       " 'x0_C101',\n",
       " 'x0_C103',\n",
       " 'x0_C104',\n",
       " 'x0_C106',\n",
       " 'x0_C110',\n",
       " 'x0_C111',\n",
       " 'x0_C118',\n",
       " 'x0_C123',\n",
       " 'x0_C124',\n",
       " 'x0_C125',\n",
       " 'x0_C126',\n",
       " 'x0_C128',\n",
       " 'x0_C148',\n",
       " 'x0_C2',\n",
       " 'x0_C22 C26',\n",
       " 'x0_C23 C25 C27',\n",
       " 'x0_C30',\n",
       " 'x0_C32',\n",
       " 'x0_C45',\n",
       " 'x0_C46',\n",
       " 'x0_C47',\n",
       " 'x0_C49',\n",
       " 'x0_C50',\n",
       " 'x0_C52',\n",
       " 'x0_C54',\n",
       " 'x0_C62 C64',\n",
       " 'x0_C65',\n",
       " 'x0_C68',\n",
       " 'x0_C7',\n",
       " 'x0_C70',\n",
       " 'x0_C78',\n",
       " 'x0_C82',\n",
       " 'x0_C83',\n",
       " 'x0_C85',\n",
       " 'x0_C86',\n",
       " 'x0_C87',\n",
       " 'x0_C90',\n",
       " 'x0_C91',\n",
       " 'x0_C92',\n",
       " 'x0_C93',\n",
       " 'x0_C95',\n",
       " 'x0_C99',\n",
       " 'x0_D',\n",
       " 'x0_D10 D12',\n",
       " 'x0_D11',\n",
       " 'x0_D15',\n",
       " 'x0_D17',\n",
       " 'x0_D19',\n",
       " 'x0_D20',\n",
       " 'x0_D21',\n",
       " 'x0_D26',\n",
       " 'x0_D28',\n",
       " 'x0_D30',\n",
       " 'x0_D33',\n",
       " 'x0_D35',\n",
       " 'x0_D36',\n",
       " 'x0_D37',\n",
       " 'x0_D45',\n",
       " 'x0_D46',\n",
       " 'x0_D47',\n",
       " 'x0_D48',\n",
       " 'x0_D49',\n",
       " 'x0_D50',\n",
       " 'x0_D56',\n",
       " 'x0_D6',\n",
       " 'x0_D7',\n",
       " 'x0_D9',\n",
       " 'x0_E10',\n",
       " 'x0_E101',\n",
       " 'x0_E12',\n",
       " 'x0_E121',\n",
       " 'x0_E17',\n",
       " 'x0_E24',\n",
       " 'x0_E25',\n",
       " 'x0_E31',\n",
       " 'x0_E33',\n",
       " 'x0_E34',\n",
       " 'x0_E36',\n",
       " 'x0_E38',\n",
       " 'x0_E40',\n",
       " 'x0_E44',\n",
       " 'x0_E46',\n",
       " 'x0_E49',\n",
       " 'x0_E50',\n",
       " 'x0_E58',\n",
       " 'x0_E63',\n",
       " 'x0_E67',\n",
       " 'x0_E68',\n",
       " 'x0_E77',\n",
       " 'x0_E8',\n",
       " 'x0_F E69',\n",
       " 'x0_F G63',\n",
       " 'x0_F G73',\n",
       " 'x0_F2',\n",
       " 'x0_F33',\n",
       " 'x0_F38',\n",
       " 'x0_F4',\n",
       " 'x0_G6',\n",
       " 'x0_T',\n",
       " 'x1_C',\n",
       " 'x1_Q',\n",
       " 'x1_S']"
      ]
     },
     "execution_count": 22,
     "metadata": {},
     "output_type": "execute_result"
    }
   ],
   "source": [
    "cl_final"
   ]
  },
  {
   "cell_type": "markdown",
   "id": "a52a282a",
   "metadata": {},
   "source": [
    "# Scaling"
   ]
  },
  {
   "cell_type": "code",
   "execution_count": 23,
   "id": "2a7c794f",
   "metadata": {},
   "outputs": [],
   "source": [
    "scaler = MinMaxScaler()\n",
    "scaler.fit(df_train[num_cl])\n",
    "df_train[num_cl] = scaler.transform(df_train[num_cl])\n",
    "\n",
    "df_test[num_cl] = scaler.transform(df_test[num_cl])\n"
   ]
  },
  {
   "cell_type": "markdown",
   "id": "004ab641",
   "metadata": {},
   "source": [
    "# model"
   ]
  },
  {
   "cell_type": "code",
   "execution_count": 92,
   "id": "d7edc1b6",
   "metadata": {},
   "outputs": [],
   "source": [
    "from sklearn.linear_model import LogisticRegression\n",
    "from sklearn.linear_model import LinearRegression\n",
    "from sklearn.tree import DecisionTreeClassifier\n",
    "from sklearn.ensemble import RandomForestClassifier"
   ]
  },
  {
   "cell_type": "code",
   "execution_count": 95,
   "id": "93525d15",
   "metadata": {},
   "outputs": [
    {
     "data": {
      "text/plain": [
       "LogisticRegression()"
      ]
     },
     "execution_count": 95,
     "metadata": {},
     "output_type": "execute_result"
    }
   ],
   "source": [
    "model_lr=LogisticRegression()\n",
    "model_lr.fit(df_train[cl_final],df_train['Survived'])"
   ]
  },
  {
   "cell_type": "code",
   "execution_count": 27,
   "id": "9a7366f7",
   "metadata": {},
   "outputs": [],
   "source": [
    "# Make predictions\n",
    "yp = model_lr.predict(df_test[cl_final])"
   ]
  },
  {
   "cell_type": "code",
   "execution_count": 28,
   "id": "f70f8bde",
   "metadata": {},
   "outputs": [],
   "source": [
    "df_submission = pd.DataFrame({'PassengerId':df_test['PassengerId'], 'Survived':yp})"
   ]
  },
  {
   "cell_type": "code",
   "execution_count": 29,
   "id": "f5f49f31",
   "metadata": {},
   "outputs": [],
   "source": [
    "df_submission.to_csv('submission_lr.csv', index=False) # convert trained model to csv"
   ]
  },
  {
   "cell_type": "code",
   "execution_count": 87,
   "id": "6230a79e",
   "metadata": {},
   "outputs": [
    {
     "data": {
      "text/plain": [
       "DecisionTreeClassifier(max_depth=10)"
      ]
     },
     "execution_count": 87,
     "metadata": {},
     "output_type": "execute_result"
    }
   ],
   "source": [
    "model_dt=DecisionTreeClassifier(max_depth=10,min_samples_leaf=1)\n",
    "model_dt.fit(df_train[cl_final],df_train['Survived'])"
   ]
  },
  {
   "cell_type": "code",
   "execution_count": 89,
   "id": "1af87c62",
   "metadata": {},
   "outputs": [],
   "source": [
    "# Make predictions\n",
    "yp = model_dt.predict(df_test[cl_final])"
   ]
  },
  {
   "cell_type": "code",
   "execution_count": 90,
   "id": "8277806f",
   "metadata": {},
   "outputs": [],
   "source": [
    "df_submission = pd.DataFrame({'PassengerId':df_test['PassengerId'], 'Survived':yp})"
   ]
  },
  {
   "cell_type": "code",
   "execution_count": 91,
   "id": "d5c91117",
   "metadata": {},
   "outputs": [],
   "source": [
    "df_submission.to_csv('submission_dtt.csv', index=False)"
   ]
  },
  {
   "cell_type": "code",
   "execution_count": 115,
   "id": "714c09a9",
   "metadata": {},
   "outputs": [
    {
     "data": {
      "text/plain": [
       "RandomForestClassifier(max_depth=10)"
      ]
     },
     "execution_count": 115,
     "metadata": {},
     "output_type": "execute_result"
    }
   ],
   "source": [
    "model_rf=RandomForestClassifier(max_depth=10, min_samples_leaf= 1,n_estimators=100)\n",
    "model_rf.fit(df_train[cl_final],df_train['Survived'])"
   ]
  },
  {
   "cell_type": "code",
   "execution_count": 117,
   "id": "e7a72b56",
   "metadata": {},
   "outputs": [],
   "source": [
    "# Make predictions\n",
    "yp = model_rf.predict(df_test[cl_final])"
   ]
  },
  {
   "cell_type": "code",
   "execution_count": 118,
   "id": "6ade0253",
   "metadata": {},
   "outputs": [],
   "source": [
    "df_submission = pd.DataFrame({'PassengerId':df_test['PassengerId'], 'Survived':yp})"
   ]
  },
  {
   "cell_type": "code",
   "execution_count": 119,
   "id": "5f8fc842",
   "metadata": {},
   "outputs": [],
   "source": [
    "df_submission.to_csv('submission_titanic.csv', index=False)"
   ]
  },
  {
   "cell_type": "code",
   "execution_count": 40,
   "id": "f66bb818",
   "metadata": {},
   "outputs": [],
   "source": [
    "import xgboost"
   ]
  },
  {
   "cell_type": "code",
   "execution_count": 41,
   "id": "47ff6e66",
   "metadata": {},
   "outputs": [
    {
     "data": {
      "text/plain": [
       "XGBRegressor(base_score=0.5, booster='gbtree', callbacks=None,\n",
       "             colsample_bylevel=1, colsample_bynode=1, colsample_bytree=1,\n",
       "             early_stopping_rounds=None, enable_categorical=False,\n",
       "             eval_metric=None, feature_types=None, gamma=0, gpu_id=-1,\n",
       "             grow_policy='depthwise', importance_type=None,\n",
       "             interaction_constraints='', learning_rate=0.300000012, max_bin=256,\n",
       "             max_cat_threshold=64, max_cat_to_onehot=4, max_delta_step=0,\n",
       "             max_depth=6, max_leaves=0, min_child_weight=1, missing=nan,\n",
       "             monotone_constraints='()', n_estimators=100, n_jobs=0,\n",
       "             num_parallel_tree=1, predictor='auto', random_state=0, ...)"
      ]
     },
     "execution_count": 41,
     "metadata": {},
     "output_type": "execute_result"
    }
   ],
   "source": [
    "model_xg = xgboost.XGBRegressor(base_score=0.5, booster='gbtree', callbacks=None,\n",
    "             colsample_bylevel=1, colsample_bynode=1, colsample_bytree=1,\n",
    "             early_stopping_rounds=None, enable_categorical=False,\n",
    "             eval_metric=None, feature_types=None, gamma=0, gpu_id=-1,\n",
    "             grow_policy='depthwise', importance_type=None,\n",
    "             interaction_constraints='', learning_rate=0.300000012, max_bin=256,\n",
    "             max_cat_threshold=64, max_cat_to_onehot=4, max_delta_step=0,\n",
    "             max_depth=6, max_leaves=0, min_child_weight=1,\n",
    "             monotone_constraints='()', n_estimators=100, n_jobs=0,\n",
    "             num_parallel_tree=1, predictor='auto', random_state=0)\n",
    "model_xg.fit(df_train[cl_final],df_train['Survived'])"
   ]
  },
  {
   "cell_type": "code",
   "execution_count": 43,
   "id": "fd0df731",
   "metadata": {},
   "outputs": [],
   "source": [
    "# Make predictions\n",
    "yp = model_xg.predict(df_test[cl_final])"
   ]
  },
  {
   "cell_type": "code",
   "execution_count": 44,
   "id": "0e7bd6dd",
   "metadata": {},
   "outputs": [],
   "source": [
    "yp=yp.astype(int)"
   ]
  },
  {
   "cell_type": "code",
   "execution_count": 45,
   "id": "6087a9d8",
   "metadata": {},
   "outputs": [],
   "source": [
    "df_submission = pd.DataFrame({'PassengerId':df_test['PassengerId'], 'Survived':yp})"
   ]
  },
  {
   "cell_type": "code",
   "execution_count": 46,
   "id": "b008a1d8",
   "metadata": {},
   "outputs": [],
   "source": [
    "df_submission.to_csv('submission_xg.csv', index=False)"
   ]
  },
  {
   "cell_type": "code",
   "execution_count": 47,
   "id": "dd65379b",
   "metadata": {},
   "outputs": [],
   "source": [
    "yp=yp.astype(int)"
   ]
  },
  {
   "cell_type": "code",
   "execution_count": 48,
   "id": "1ef06d21",
   "metadata": {},
   "outputs": [],
   "source": [
    "from sklearn.svm import SVC"
   ]
  },
  {
   "cell_type": "code",
   "execution_count": 124,
   "id": "1289d6f2",
   "metadata": {},
   "outputs": [
    {
     "data": {
      "text/plain": [
       "SVC(kernel='linear')"
      ]
     },
     "execution_count": 124,
     "metadata": {},
     "output_type": "execute_result"
    }
   ],
   "source": [
    "model_sv=SVC(kernel='linear')\n",
    "model_sv.fit(df_train[cl_final],df_train['Survived'])"
   ]
  },
  {
   "cell_type": "code",
   "execution_count": 51,
   "id": "75d2b978",
   "metadata": {},
   "outputs": [],
   "source": [
    "# Make predictions\n",
    "yp = model_sv.predict(df_test[cl_final])"
   ]
  },
  {
   "cell_type": "code",
   "execution_count": 52,
   "id": "4c99de80",
   "metadata": {},
   "outputs": [],
   "source": [
    "df_submission = pd.DataFrame({'PassengerId':df_test['PassengerId'], 'Survived':yp})"
   ]
  },
  {
   "cell_type": "code",
   "execution_count": 53,
   "id": "d7a2e447",
   "metadata": {},
   "outputs": [],
   "source": [
    "df_submission.to_csv('submission_sv.csv', index=False)"
   ]
  },
  {
   "cell_type": "code",
   "execution_count": null,
   "id": "bf27c4f4",
   "metadata": {},
   "outputs": [],
   "source": []
  }
 ],
 "metadata": {
  "kernelspec": {
   "display_name": "Python 3 (ipykernel)",
   "language": "python",
   "name": "python3"
  },
  "language_info": {
   "codemirror_mode": {
    "name": "ipython",
    "version": 3
   },
   "file_extension": ".py",
   "mimetype": "text/x-python",
   "name": "python",
   "nbconvert_exporter": "python",
   "pygments_lexer": "ipython3",
   "version": "3.9.12"
  }
 },
 "nbformat": 4,
 "nbformat_minor": 5
}
